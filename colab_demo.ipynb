{
  "nbformat": 4,
  "nbformat_minor": 0,
  "metadata": {
    "accelerator": "GPU",
    "colab": {
      "name": "colab_demo.ipynb",
      "version": "0.3.2",
      "provenance": [],
      "collapsed_sections": [],
      "toc_visible": true,
      "include_colab_link": true
    },
    "kernelspec": {
      "display_name": "Python 3",
      "language": "python",
      "name": "python3"
    },
    "language_info": {
      "codemirror_mode": {
        "name": "ipython",
        "version": 3
      },
      "file_extension": ".py",
      "mimetype": "text/x-python",
      "name": "python",
      "nbconvert_exporter": "python",
      "pygments_lexer": "ipython3",
      "version": "3.6.6"
    }
  },
  "cells": [
    {
      "cell_type": "markdown",
      "metadata": {
        "id": "view-in-github",
        "colab_type": "text"
      },
      "source": [
        "<a href=\"https://colab.research.google.com/github/ak9250/fewshot-face-translation-GAN/blob/master/colab_demo.ipynb\" target=\"_parent\"><img src=\"https://colab.research.google.com/assets/colab-badge.svg\" alt=\"Open In Colab\"/></a>"
      ]
    },
    {
      "cell_type": "markdown",
      "metadata": {
        "colab_type": "text",
        "id": "z1WtuizOlz-S"
      },
      "source": [
        "## Colab commands\n",
        "\n",
        "The following cells will download prerequisite for fewshot-face-translation-GAN."
      ]
    },
    {
      "cell_type": "code",
      "metadata": {
        "colab_type": "code",
        "id": "iuSSeoFwlz-Y",
        "colab": {}
      },
      "source": [
        "!git clone --recursive https://github.com/shaoanlu/fewshot-face-translation-GAN.git"
      ],
      "execution_count": 0,
      "outputs": []
    },
    {
      "cell_type": "code",
      "metadata": {
        "id": "e7DNCSttCGF8",
        "colab_type": "code",
        "colab": {}
      },
      "source": [
        "# There are import errors under keras == 2.2.5\n",
        "!pip install keras==2.2.4"
      ],
      "execution_count": 0,
      "outputs": []
    },
    {
      "cell_type": "code",
      "metadata": {
        "colab_type": "code",
        "id": "ugeuo-e9lz-r",
        "colab": {}
      },
      "source": [
        "%cd \"fewshot-face-translation-GAN\""
      ],
      "execution_count": 0,
      "outputs": []
    },
    {
      "cell_type": "code",
      "metadata": {
        "colab_type": "code",
        "id": "qwFHol_plz_A",
        "colab": {}
      },
      "source": [
        "# Download pre-trined weights\n",
        "!gdown https://drive.google.com/uc?id=1DUMmZGTGKMyEYSKy-w34IDHawVF24rIs\n",
        "!gdown https://drive.google.com/uc?id=1xl8cg7xaRnMsyiODcXguJ83d5hwodckB"
      ],
      "execution_count": 0,
      "outputs": []
    },
    {
      "cell_type": "code",
      "metadata": {
        "colab_type": "code",
        "id": "u9b2N8INnm8P",
        "colab": {}
      },
      "source": [
        "!mkdir weights\n",
        "!mv decoder.h5 weights/decoder.h5\n",
        "!mv encoder.h5 weights/encoder.h5"
      ],
      "execution_count": 0,
      "outputs": []
    },
    {
      "cell_type": "code",
      "metadata": {
        "id": "lxkssYbKcE-J",
        "colab_type": "code",
        "colab": {}
      },
      "source": [
        "!ls"
      ],
      "execution_count": 0,
      "outputs": []
    },
    {
      "cell_type": "markdown",
      "metadata": {
        "colab_type": "text",
        "id": "htzgMCcYlz_G"
      },
      "source": [
        "## Load GAN model"
      ]
    },
    {
      "cell_type": "code",
      "metadata": {
        "colab_type": "code",
        "id": "PDCd3QM_lz_J",
        "colab": {}
      },
      "source": [
        "import warnings\n",
        "warnings.filterwarnings(\"ignore\")"
      ],
      "execution_count": 0,
      "outputs": []
    },
    {
      "cell_type": "code",
      "metadata": {
        "colab_type": "code",
        "id": "SByaoidilz_O",
        "scrolled": true,
        "colab": {}
      },
      "source": [
        "from models import FaceTranslationGANInferenceModel"
      ],
      "execution_count": 0,
      "outputs": []
    },
    {
      "cell_type": "code",
      "metadata": {
        "colab_type": "code",
        "id": "LRheogi-lz_U",
        "scrolled": false,
        "colab": {}
      },
      "source": [
        "model = FaceTranslationGANInferenceModel()"
      ],
      "execution_count": 0,
      "outputs": []
    },
    {
      "cell_type": "markdown",
      "metadata": {
        "colab_type": "text",
        "id": "SQTAATsjlz_r"
      },
      "source": [
        "## Load face-toolbox"
      ]
    },
    {
      "cell_type": "code",
      "metadata": {
        "colab_type": "code",
        "id": "CpyAOeYXlz_w",
        "colab": {}
      },
      "source": [
        "from face_toolbox_keras.models.verifier.face_verifier import FaceVerifier\n",
        "fv = FaceVerifier(classes=512)\n",
        "\n",
        "from face_toolbox_keras.models.parser import face_parser\n",
        "fp = face_parser.FaceParser()\n",
        "\n",
        "from face_toolbox_keras.models.detector import face_detector\n",
        "fd = face_detector.FaceAlignmentDetector()\n",
        "\n",
        "from face_toolbox_keras.models.detector.iris_detector import IrisDetector\n",
        "idet = IrisDetector()\n",
        "#idet.set_detector(fd)"
      ],
      "execution_count": 0,
      "outputs": []
    },
    {
      "cell_type": "markdown",
      "metadata": {
        "colab_type": "text",
        "id": "s8rD90Ljlz_5"
      },
      "source": [
        "# Translate faces"
      ]
    },
    {
      "cell_type": "code",
      "metadata": {
        "colab_type": "code",
        "id": "PoFePLoelz__",
        "colab": {}
      },
      "source": [
        "import numpy as np\n",
        "from utils import utils\n",
        "from matplotlib import pyplot as plt"
      ],
      "execution_count": 0,
      "outputs": []
    },
    {
      "cell_type": "markdown",
      "metadata": {
        "id": "CfRAiP0nkqF1",
        "colab_type": "text"
      },
      "source": [
        "use youtube-dl for video face swapping"
      ]
    },
    {
      "cell_type": "code",
      "metadata": {
        "id": "oideRNWc2pS3",
        "colab_type": "code",
        "colab": {}
      },
      "source": [
        "!pip install youtube-dl"
      ],
      "execution_count": 0,
      "outputs": []
    },
    {
      "cell_type": "code",
      "metadata": {
        "id": "-f0pqr4T2v2p",
        "colab_type": "code",
        "colab": {}
      },
      "source": [
        "!youtube-dl -f 'bestvideo[ext=mp4]+bestaudio[ext=m4a]/mp4' url to youtube video here"
      ],
      "execution_count": 0,
      "outputs": []
    },
    {
      "cell_type": "code",
      "metadata": {
        "id": "isoEjwQE56NA",
        "colab_type": "code",
        "colab": {}
      },
      "source": [
        "mkdir raw_images"
      ],
      "execution_count": 0,
      "outputs": []
    },
    {
      "cell_type": "code",
      "metadata": {
        "id": "henCmAs-5XZa",
        "colab_type": "code",
        "colab": {}
      },
      "source": [
        "!ffmpeg -i youryoutubevideotitle.mp4 raw_images/$filename%03d.png"
      ],
      "execution_count": 0,
      "outputs": []
    },
    {
      "cell_type": "code",
      "metadata": {
        "id": "FmRCpIqo6Gzr",
        "colab_type": "code",
        "colab": {}
      },
      "source": [
        "!wget -O /content/fewshot-face-translation-GAN/test.jpg url to test image"
      ],
      "execution_count": 0,
      "outputs": []
    },
    {
      "cell_type": "markdown",
      "metadata": {
        "colab_type": "text",
        "id": "drpzzGCgl0AW"
      },
      "source": [
        "### Inference\n",
        "\n",
        "It requires additional time to load models for the first inference.\n"
      ]
    },
    {
      "cell_type": "code",
      "metadata": {
        "colab_type": "code",
        "id": "OGaNnRHkl0AX",
        "colab": {}
      },
      "source": [
        "import os\n",
        "import os.path\n",
        "import shutil\n",
        "from PIL import Image\n",
        "\n",
        "target_path = '/content/fewshot-face-translation-GAN/test.jpg'\n",
        "tar, emb_tar = utils.get_tar_inputs([target_path], fd, fv)\n",
        "src_dir = \"/content/fewshot-face-translation-GAN/raw_images/\"\n",
        "result_dir = \"/content/fewshot-face-translation-GAN/results/\"\n",
        "os.makedirs(result_dir, exist_ok=True)\n",
        "\n",
        "for target_name in os.listdir(src_dir):\n",
        "  src_path = os.path.join(src_dir, target_name)\n",
        "  result_path = os.path.join(result_dir, target_name)\n",
        "  print(src_path)\n",
        "  try:\n",
        "    src, mask, aligned_im, (x0, y0, x1, y1), landmarks = utils.get_src_inputs(src_path, fd, fp, idet)\n",
        "  except IndexError as e:\n",
        "    print(\"get_src_inputs IndexError:\", e)\n",
        "    shutil.copyfile(src_path, result_path)\n",
        "    continue\n",
        "  except AssertionError as e:\n",
        "    print(\"get_src_inputs AssertionError:\", e)\n",
        "    shutil.copyfile(src_path, result_path)\n",
        "    continue\n",
        "    \n",
        "  out = model.inference(src, mask, tar, emb_tar)\n",
        "  result_face = np.squeeze(((out[0] + 1) * 255 / 2).astype(np.uint8))\n",
        "  result_img = utils.post_process_result(src_path, fd, result_face, aligned_im, src, x0, y0, x1, y1, landmarks)\n",
        "  Image.fromarray(result_img).save(result_path)"
      ],
      "execution_count": 0,
      "outputs": []
    },
    {
      "cell_type": "markdown",
      "metadata": {
        "colab_type": "text",
        "id": "HqTEOcqxl0Ak"
      },
      "source": [
        "### Visualize results\n",
        "\n",
        "see image result or output a video mp4 of the result images"
      ]
    },
    {
      "cell_type": "code",
      "metadata": {
        "id": "eOa27DpWdSxw",
        "colab_type": "code",
        "colab": {}
      },
      "source": [
        "plt.imshow(result_img)"
      ],
      "execution_count": 0,
      "outputs": []
    },
    {
      "cell_type": "code",
      "metadata": {
        "colab_type": "code",
        "id": "_Do9x9wZl0BK",
        "colab": {}
      },
      "source": [
        "!ffmpeg -f image2 -i /content/fewshot-face-translation-GAN/results/$filename%03d.png -vf scale=256:256 -vcodec libx264 -pix_fmt yuv420p -strict -2 -acodec aac video.mp4 -y"
      ],
      "execution_count": 0,
      "outputs": []
    }
  ]
}